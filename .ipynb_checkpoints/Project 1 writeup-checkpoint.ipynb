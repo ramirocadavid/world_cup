{
 "cells": [
  {
   "cell_type": "markdown",
   "metadata": {},
   "source": [
    "# Penalty shoot-outs - write up"
   ]
  },
  {
   "cell_type": "markdown",
   "metadata": {},
   "source": [
    "### Summary\n",
    "\n",
    "While building this program, I realized that the initial design of the classes involved in this game was overly complicated. I probably was trying to use as many features of Python as possible and didn't realize how complex the relationships between classes would become.\n",
    "\n",
    "Even though designing the classes was relatively straigthforward, designing the interaction between some of them was quite challenging. Specifically, the classes group under \"Game classes\" in the script (i.e. those that were not related to the game setup but were used when the player is playing the game) had a lot of interactions between them. that made the design of the interface and some methods difficult. For example, the kicks class was composed of players and strategies and some of its attributes were updated by the different combinations of strategies, which in turn had a kick and match attribute that contained the relationship between them, which was used in turn not only to determine the result of the kick but also to update the game score.\n",
    "\n",
    "However, I managed to simplify the classes and integrate them using the interface function and a couple of static methods, even though I suspect that having put more thought on the game flow before I started to write the program would have resulted in a code that is easier to maintain and improve than it is now, since these static methods contain several relationships, are dependent on a very specific flow of the game and may break easily if one of the classes is modified.\n",
    "\n",
    "Also, in order to make the game realistic, I tried to replicate as many rules of the game as possible. However, some of them were challenging to translate into code, especially since some of them didn't depend of only one class.\n",
    "\n",
    "Overall, I felt that this excercise was quite useful to practice most of the topics we've seen so far, but also an opportunity to realize that knowing this is insufficient to create good programs and that design, planning and other softer skills are as necessary as knowing the syntax of the language."
   ]
  },
  {
   "cell_type": "markdown",
   "metadata": {},
   "source": [
    "### How to test\n",
    "\n",
    "To test the game, open the penalty.py file in Git Bash and test each of the options. The flow of the game should be friendly to new users, but it is important to take the following details into account:\n",
    "\n",
    "1. Type only the number of the chosen option, not the full caption. For example, in the main menu, to choose the second option \"\\[2\\] List teams\" type only 2 and press Enter.\n",
    "1. Once inside the option follow the instructions, taking into account that options 1-4 are mostly for setting the game up (creating/listing teams or players)\n",
    "1. Options 5-6 are selected to play the game, with the difference that option 6 will automatically choose the teams and players at the beginning, while option 5 requires first to choose these. However, after these are chosen, the game should be straightforward to follow.\n",
    "1. Take into account that while playing the game, when choosing the kicker and goalie strategies, the input entered using the keyboard will be hidden and it will look like you haven't typed anything. This is done with the intention of hiding each player's strategy from the other player.\n",
    "1. The game will finish if after round 5 one of the players is winning. If there is a tie, there will be an additional round until one of the two players takes the lead.\n"
   ]
  },
  {
   "cell_type": "markdown",
   "metadata": {},
   "source": [
    "### Context\n",
    "\n",
    "It may be useful, before playing this game, to get a sense of it's basic flow and general rules. Specially for someone who is not familiar with soccer.\n",
    "\n",
    "\"A penalty shoot-out (officially kicks from the penalty mark) is a method of determining which team is awarded victory in an association football match that cannot end in a draw, when the score is tied after the regulation playing time as well as extra time (if used) have expired. In a penalty shoot-out, each team takes turns shooting at goal from the penalty mark, with the goal only defended by the opposing team's goalkeeper. Each team has five shots which must be taken by different kickers; the team that makes more successful kicks is declared the victor. Shoot-outs finish as soon as one team has an insurmountable lead. If scores are level after five pairs of shots, the shootout progresses into additional \"sudden-death\" rounds.\" Source: [Wikipedia][1]\n",
    "\n",
    "[1]: https://en.wikipedia.org/wiki/Penalty_shoot-out_(association_football)"
   ]
  }
 ],
 "metadata": {
  "kernelspec": {
   "display_name": "Python 3",
   "language": "python",
   "name": "python3"
  },
  "language_info": {
   "codemirror_mode": {
    "name": "ipython",
    "version": 3
   },
   "file_extension": ".py",
   "mimetype": "text/x-python",
   "name": "python",
   "nbconvert_exporter": "python",
   "pygments_lexer": "ipython3",
   "version": "3.6.4"
  }
 },
 "nbformat": 4,
 "nbformat_minor": 2
}
